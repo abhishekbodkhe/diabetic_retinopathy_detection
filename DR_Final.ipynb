{
 "cells": [
  {
   "attachments": {},
   "cell_type": "markdown",
   "id": "3ce35510",
   "metadata": {
    "papermill": {
     "duration": 0.015887,
     "end_time": "2022-08-07T16:38:29.242095",
     "exception": false,
     "start_time": "2022-08-07T16:38:29.226208",
     "status": "completed"
    },
    "tags": []
   },
   "source": []
  },
  {
   "cell_type": "markdown",
   "id": "d95a8bf3",
   "metadata": {
    "papermill": {
     "duration": 0.015995,
     "end_time": "2022-08-07T16:38:29.307103",
     "exception": false,
     "start_time": "2022-08-07T16:38:29.291108",
     "status": "completed"
    },
    "tags": []
   },
   "source": []
  },
  {
   "cell_type": "code",
   "execution_count": 2,
   "id": "cd583d52",
   "metadata": {},
   "outputs": [
    {
     "name": "stdout",
     "output_type": "stream",
     "text": [
      "Collecting keras\n",
      "  Downloading keras-2.10.0-py2.py3-none-any.whl (1.7 MB)\n",
      "Installing collected packages: keras\n",
      "Successfully installed keras-2.10.0\n",
      "Note: you may need to restart the kernel to use updated packages.\n"
     ]
    }
   ],
   "source": [
    "pip install keras"
   ]
  },
  {
   "cell_type": "code",
   "execution_count": 8,
   "id": "19a1ff72",
   "metadata": {},
   "outputs": [
    {
     "name": "stdout",
     "output_type": "stream",
     "text": [
      "Collecting keras==2.4.3Note: you may need to restart the kernel to use updated packages.\n",
      "\n",
      "  Downloading Keras-2.4.3-py2.py3-none-any.whl (36 kB)\n",
      "Collecting pyyaml\n",
      "  Downloading PyYAML-6.0-cp36-cp36m-win_amd64.whl (153 kB)\n",
      "Requirement already satisfied: h5py in c:\\programdata\\anaconda3\\envs\\gpu2\\lib\\site-packages (from keras==2.4.3) (2.10.0)\n",
      "Requirement already satisfied: scipy>=0.14 in c:\\programdata\\anaconda3\\envs\\gpu2\\lib\\site-packages (from keras==2.4.3) (1.4.1)\n",
      "Requirement already satisfied: numpy>=1.9.1 in c:\\programdata\\anaconda3\\envs\\gpu2\\lib\\site-packages (from keras==2.4.3) (1.19.5)\n",
      "Requirement already satisfied: six in c:\\programdata\\anaconda3\\envs\\gpu2\\lib\\site-packages (from h5py->keras==2.4.3) (1.15.0)\n",
      "Installing collected packages: pyyaml, keras\n",
      "  Attempting uninstall: keras\n",
      "    Found existing installation: keras 2.10.0\n",
      "    Uninstalling keras-2.10.0:\n",
      "      Successfully uninstalled keras-2.10.0\n",
      "Successfully installed keras-2.4.3 pyyaml-6.0\n"
     ]
    }
   ],
   "source": [
    "\n",
    "pip install  keras==2.4.3"
   ]
  },
  {
   "cell_type": "code",
   "execution_count": 10,
   "id": "5091a2e6",
   "metadata": {},
   "outputs": [
    {
     "name": "stdout",
     "output_type": "stream",
     "text": [
      "Collecting sklearn\n",
      "  Downloading sklearn-0.0.post5.tar.gz (3.7 kB)\n",
      "  Downloading sklearn-0.0.post4.tar.gz (3.6 kB)\n",
      "  Downloading sklearn-0.0.post1.tar.gz (3.6 kB)\n",
      "  Downloading sklearn-0.0.tar.gz (1.1 kB)\n",
      "Collecting scikit-learn\n",
      "  Downloading scikit_learn-0.24.2-cp36-cp36m-win_amd64.whl (6.8 MB)\n",
      "Collecting joblib>=0.11\n",
      "Note: you may need to restart the kernel to use updated packages.\n"
     ]
    },
    {
     "name": "stderr",
     "output_type": "stream",
     "text": [
      "    ERROR: Command errored out with exit status 1:\n",
      "     command: 'c:\\ProgramData\\Anaconda3\\envs\\gpu2\\python.exe' -c 'import io, os, sys, setuptools, tokenize; sys.argv[0] = '\"'\"'C:\\\\Users\\\\Abhi\\\\AppData\\\\Local\\\\Temp\\\\pip-install-ii1r69un\\\\sklearn_b277b063ad7e4f1d9e6764e0237b93d5\\\\setup.py'\"'\"'; __file__='\"'\"'C:\\\\Users\\\\Abhi\\\\AppData\\\\Local\\\\Temp\\\\pip-install-ii1r69un\\\\sklearn_b277b063ad7e4f1d9e6764e0237b93d5\\\\setup.py'\"'\"';f = getattr(tokenize, '\"'\"'open'\"'\"', open)(__file__) if os.path.exists(__file__) else io.StringIO('\"'\"'from setuptools import setup; setup()'\"'\"');code = f.read().replace('\"'\"'\\r\\n'\"'\"', '\"'\"'\\n'\"'\"');f.close();exec(compile(code, __file__, '\"'\"'exec'\"'\"'))' egg_info --egg-base 'C:\\Users\\Abhi\\AppData\\Local\\Temp\\pip-pip-egg-info-4s5jv0ru'\n",
      "         cwd: C:\\Users\\Abhi\\AppData\\Local\\Temp\\pip-install-ii1r69un\\sklearn_b277b063ad7e4f1d9e6764e0237b93d5\\"
     ]
    },
    {
     "name": "stdout",
     "output_type": "stream",
     "text": [
      "  Downloading joblib-1.1.1-py2.py3-none-any.whl (309 kB)\n",
      "Requirement already satisfied: numpy>=1.13.3 in c:\\programdata\\anaconda3\\envs\\gpu2\\lib\\site-packages (from scikit-learn->sklearn) (1.19.5)\n",
      "Collecting threadpoolctl>=2.0.0\n",
      "  Downloading threadpoolctl-3.1.0-py3-none-any.whl (14 kB)\n",
      "Requirement already satisfied: scipy>=0.19.1 in c:\\programdata\\anaconda3\\envs\\gpu2\\lib\\site-packages (from scikit-learn->sklearn) (1.4.1)\n",
      "Building wheels for collected packages: sklearn\n",
      "  Building wheel for sklearn (setup.py): started\n",
      "  Building wheel for sklearn (setup.py): finished with status 'done'\n",
      "  Created wheel for sklearn: filename=sklearn-0.0-py2.py3-none-any.whl size=1310 sha256=40b0a373d56ad499a1cf259593e27c042494022b7d323f69f0eb556f65a337db\n",
      "  Stored in directory: c:\\users\\abhi\\appdata\\local\\pip\\cache\\wheels\\23\\9d\\42\\5ec745cbbb17517000a53cecc49d6a865450d1f5cb16dc8a9c\n",
      "Successfully built sklearn\n",
      "Installing collected packages: threadpoolctl, joblib, scikit-learn, sklearn\n",
      "Successfully installed joblib-1.1.1 scikit-learn-0.24.2 sklearn-0.0 threadpoolctl-3.1.0\n"
     ]
    },
    {
     "name": "stderr",
     "output_type": "stream",
     "text": [
      "\n",
      "    Complete output (18 lines):\n",
      "    The 'sklearn' PyPI package is deprecated, use 'scikit-learn'\n",
      "    rather than 'sklearn' for pip commands.\n",
      "    \n",
      "    Here is how to fix this error in the main use cases:\n",
      "    - use 'pip install scikit-learn' rather than 'pip install sklearn'\n",
      "    - replace 'sklearn' by 'scikit-learn' in your pip requirements files\n",
      "      (requirements.txt, setup.py, setup.cfg, Pipfile, etc ...)\n",
      "    - if the 'sklearn' package is used by one of your dependencies,\n",
      "      it would be great if you take some time to track which package uses\n",
      "      'sklearn' instead of 'scikit-learn' and report it to their issue tracker\n",
      "    - as a last resort, set the environment variable\n",
      "      SKLEARN_ALLOW_DEPRECATED_SKLEARN_PACKAGE_INSTALL=True to avoid this error\n",
      "    \n",
      "    More information is available at\n",
      "    https://github.com/scikit-learn/sklearn-pypi-package\n",
      "    \n",
      "    If the previous advice does not cover your use case, feel free to report it at\n",
      "    https://github.com/scikit-learn/sklearn-pypi-package/issues/new\n",
      "    ----------------------------------------\n",
      "WARNING: Discarding https://files.pythonhosted.org/packages/7a/93/e0e1b1e98f39dfca7ec9795cb46f6e09e88a2fd5d4a28e4b3d1f618a2aec/sklearn-0.0.post5.tar.gz#sha256=7377c714a03a79bbe9196f435db931fd2a6fa8c68514da7ed3a251fd08c52e2c (from https://pypi.org/simple/sklearn/). Command errored out with exit status 1: python setup.py egg_info Check the logs for full command output.\n",
      "    ERROR: Command errored out with exit status 1:\n",
      "     command: 'c:\\ProgramData\\Anaconda3\\envs\\gpu2\\python.exe' -c 'import io, os, sys, setuptools, tokenize; sys.argv[0] = '\"'\"'C:\\\\Users\\\\Abhi\\\\AppData\\\\Local\\\\Temp\\\\pip-install-ii1r69un\\\\sklearn_d8bda7533dbf4415b084ad0b5eaa581c\\\\setup.py'\"'\"'; __file__='\"'\"'C:\\\\Users\\\\Abhi\\\\AppData\\\\Local\\\\Temp\\\\pip-install-ii1r69un\\\\sklearn_d8bda7533dbf4415b084ad0b5eaa581c\\\\setup.py'\"'\"';f = getattr(tokenize, '\"'\"'open'\"'\"', open)(__file__) if os.path.exists(__file__) else io.StringIO('\"'\"'from setuptools import setup; setup()'\"'\"');code = f.read().replace('\"'\"'\\r\\n'\"'\"', '\"'\"'\\n'\"'\"');f.close();exec(compile(code, __file__, '\"'\"'exec'\"'\"'))' egg_info --egg-base 'C:\\Users\\Abhi\\AppData\\Local\\Temp\\pip-pip-egg-info-ixj_yduy'\n",
      "         cwd: C:\\Users\\Abhi\\AppData\\Local\\Temp\\pip-install-ii1r69un\\sklearn_d8bda7533dbf4415b084ad0b5eaa581c\\\n",
      "    Complete output (7 lines):\n",
      "    Traceback (most recent call last):\n",
      "      File \"<string>\", line 1, in <module>\n",
      "      File \"C:\\Users\\Abhi\\AppData\\Local\\Temp\\pip-install-ii1r69un\\sklearn_d8bda7533dbf4415b084ad0b5eaa581c\\setup.py\", line 10, in <module>\n",
      "        LONG_DESCRIPTION = f.read()\n",
      "      File \"c:\\ProgramData\\Anaconda3\\envs\\gpu2\\lib\\encodings\\cp1252.py\", line 23, in decode\n",
      "        return codecs.charmap_decode(input,self.errors,decoding_table)[0]\n",
      "    UnicodeDecodeError: 'charmap' codec can't decode byte 0x8f in position 7: character maps to <undefined>\n",
      "    ----------------------------------------\n",
      "WARNING: Discarding https://files.pythonhosted.org/packages/99/b2/165110013aa66fae6fc13918ad0e9de4801e5f1691d371bf8b63328037e6/sklearn-0.0.post4.tar.gz#sha256=0e81ec9c32d4bb418e7be8f1ec1027d174975502dc84cbc4f4564b4cba31e674 (from https://pypi.org/simple/sklearn/). Command errored out with exit status 1: python setup.py egg_info Check the logs for full command output.\n",
      "    ERROR: Command errored out with exit status 1:\n",
      "     command: 'c:\\ProgramData\\Anaconda3\\envs\\gpu2\\python.exe' -c 'import io, os, sys, setuptools, tokenize; sys.argv[0] = '\"'\"'C:\\\\Users\\\\Abhi\\\\AppData\\\\Local\\\\Temp\\\\pip-install-ii1r69un\\\\sklearn_de84087d186240beb7a4cce0282258ac\\\\setup.py'\"'\"'; __file__='\"'\"'C:\\\\Users\\\\Abhi\\\\AppData\\\\Local\\\\Temp\\\\pip-install-ii1r69un\\\\sklearn_de84087d186240beb7a4cce0282258ac\\\\setup.py'\"'\"';f = getattr(tokenize, '\"'\"'open'\"'\"', open)(__file__) if os.path.exists(__file__) else io.StringIO('\"'\"'from setuptools import setup; setup()'\"'\"');code = f.read().replace('\"'\"'\\r\\n'\"'\"', '\"'\"'\\n'\"'\"');f.close();exec(compile(code, __file__, '\"'\"'exec'\"'\"'))' egg_info --egg-base 'C:\\Users\\Abhi\\AppData\\Local\\Temp\\pip-pip-egg-info-evem0cry'\n",
      "         cwd: C:\\Users\\Abhi\\AppData\\Local\\Temp\\pip-install-ii1r69un\\sklearn_de84087d186240beb7a4cce0282258ac\\\n",
      "    Complete output (18 lines):\n",
      "    The 'sklearn' PyPI package is deprecated, use 'scikit-learn'\n",
      "    rather than 'sklearn' for pip commands.\n",
      "    \n",
      "    Here is how to fix this error in the main use cases:\n",
      "    - use 'pip install scikit-learn' rather than 'pip install sklearn'\n",
      "    - replace 'sklearn' by 'scikit-learn' in your pip requirements files\n",
      "      (requirements.txt, setup.py, setup.cfg, Pipfile, etc ...)\n",
      "    - if the 'sklearn' package is used by one of your dependencies,\n",
      "      it would be great if you take some time to track which package uses\n",
      "      'sklearn' instead of 'scikit-learn' and report it to their issue tracker\n",
      "    - as a last resort, set the environment variable\n",
      "      SKLEARN_ALLOW_DEPRECATED_SKLEARN_PACKAGE_INSTALL=True to avoid this error\n",
      "    \n",
      "    More information is available at\n",
      "    https://github.com/scikit-learn/sklearn-pypi-package\n",
      "    \n",
      "    If the previous advice does not cover your use case, feel free to report it at\n",
      "    https://github.com/scikit-learn/sklearn-pypi-package/issues/new\n",
      "    ----------------------------------------\n",
      "WARNING: Discarding https://files.pythonhosted.org/packages/db/1e/af4e9cded5093a92e60d4ae7149a02c7427661b2db66c8ea4d34b17864a2/sklearn-0.0.post1.tar.gz#sha256=76b9ed1623775168657b86b5fe966d45752e5c87f528de6240c38923b94147c5 (from https://pypi.org/simple/sklearn/). Command errored out with exit status 1: python setup.py egg_info Check the logs for full command output.\n"
     ]
    }
   ],
   "source": [
    "pip install sklearn"
   ]
  },
  {
   "cell_type": "code",
   "execution_count": 12,
   "id": "807325af",
   "metadata": {
    "_cell_guid": "79c7e3d0-c299-4dcb-8224-4455121ee9b0",
    "_uuid": "d629ff2d2480ee46fbb7e2d37f6b5fab8052498a",
    "execution": {
     "iopub.execute_input": "2022-08-07T16:38:29.407554Z",
     "iopub.status.busy": "2022-08-07T16:38:29.406484Z",
     "iopub.status.idle": "2022-08-07T16:38:35.491810Z",
     "shell.execute_reply": "2022-08-07T16:38:35.490793Z"
    },
    "id": "nFAm6AkR5dem",
    "papermill": {
     "duration": 6.105731,
     "end_time": "2022-08-07T16:38:35.494278",
     "exception": false,
     "start_time": "2022-08-07T16:38:29.388547",
     "status": "completed"
    },
    "tags": []
   },
   "outputs": [],
   "source": [
    "from tensorflow import lite\n",
    "import tensorflow as tf\n",
    "from tensorflow import keras\n",
    "from tensorflow.keras import layers\n",
    "import numpy as np\n",
    "import pandas as pd\n",
    "import random, os\n",
    "import shutil\n",
    "import matplotlib.pyplot as plt\n",
    "from matplotlib.image import imread\n",
    "from keras.preprocessing.image import ImageDataGenerator\n",
    "from tensorflow.keras.metrics import categorical_accuracy\n",
    "from sklearn.model_selection import train_test_split"
   ]
  },
  {
   "cell_type": "code",
   "execution_count": 13,
   "id": "d36144e9",
   "metadata": {
    "execution": {
     "iopub.execute_input": "2022-08-07T16:38:35.530723Z",
     "iopub.status.busy": "2022-08-07T16:38:35.528769Z",
     "iopub.status.idle": "2022-08-07T16:38:35.566462Z",
     "shell.execute_reply": "2022-08-07T16:38:35.565267Z"
    },
    "id": "02HUx5fs5dew",
    "outputId": "feb7cede-7dac-4619-9267-9bc4fda77e1f",
    "papermill": {
     "duration": 0.057478,
     "end_time": "2022-08-07T16:38:35.568434",
     "exception": false,
     "start_time": "2022-08-07T16:38:35.510956",
     "status": "completed"
    },
    "tags": []
   },
   "outputs": [
    {
     "data": {
      "text/html": [
       "<div>\n",
       "<style scoped>\n",
       "    .dataframe tbody tr th:only-of-type {\n",
       "        vertical-align: middle;\n",
       "    }\n",
       "\n",
       "    .dataframe tbody tr th {\n",
       "        vertical-align: top;\n",
       "    }\n",
       "\n",
       "    .dataframe thead th {\n",
       "        text-align: right;\n",
       "    }\n",
       "</style>\n",
       "<table border=\"1\" class=\"dataframe\">\n",
       "  <thead>\n",
       "    <tr style=\"text-align: right;\">\n",
       "      <th></th>\n",
       "      <th>id_code</th>\n",
       "      <th>diagnosis</th>\n",
       "      <th>binary_type</th>\n",
       "      <th>type</th>\n",
       "    </tr>\n",
       "  </thead>\n",
       "  <tbody>\n",
       "    <tr>\n",
       "      <th>0</th>\n",
       "      <td>000c1434d8d7</td>\n",
       "      <td>2</td>\n",
       "      <td>DR</td>\n",
       "      <td>Moderate</td>\n",
       "    </tr>\n",
       "    <tr>\n",
       "      <th>1</th>\n",
       "      <td>001639a390f0</td>\n",
       "      <td>4</td>\n",
       "      <td>DR</td>\n",
       "      <td>Proliferate_DR</td>\n",
       "    </tr>\n",
       "    <tr>\n",
       "      <th>2</th>\n",
       "      <td>0024cdab0c1e</td>\n",
       "      <td>1</td>\n",
       "      <td>DR</td>\n",
       "      <td>Mild</td>\n",
       "    </tr>\n",
       "    <tr>\n",
       "      <th>3</th>\n",
       "      <td>002c21358ce6</td>\n",
       "      <td>0</td>\n",
       "      <td>No_DR</td>\n",
       "      <td>No_DR</td>\n",
       "    </tr>\n",
       "    <tr>\n",
       "      <th>4</th>\n",
       "      <td>005b95c28852</td>\n",
       "      <td>0</td>\n",
       "      <td>No_DR</td>\n",
       "      <td>No_DR</td>\n",
       "    </tr>\n",
       "  </tbody>\n",
       "</table>\n",
       "</div>"
      ],
      "text/plain": [
       "        id_code  diagnosis binary_type            type\n",
       "0  000c1434d8d7          2          DR        Moderate\n",
       "1  001639a390f0          4          DR  Proliferate_DR\n",
       "2  0024cdab0c1e          1          DR            Mild\n",
       "3  002c21358ce6          0       No_DR           No_DR\n",
       "4  005b95c28852          0       No_DR           No_DR"
      ]
     },
     "execution_count": 13,
     "metadata": {},
     "output_type": "execute_result"
    }
   ],
   "source": [
    "# Add an additional column, mapping to the type\n",
    "df = pd.read_csv(r'C:/dr_final/train.csv')\n",
    "\n",
    "\n",
    "diagnosis_dict_binary = {\n",
    "    0: 'No_DR',\n",
    "    1: 'DR',\n",
    "    2: 'DR',\n",
    "    3: 'DR',\n",
    "    4: 'DR'\n",
    "}\n",
    "\n",
    "diagnosis_dict = {\n",
    "    0: 'No_DR',\n",
    "    1: 'Mild',\n",
    "    2: 'Moderate',\n",
    "    3: 'Severe',\n",
    "    4: 'Proliferate_DR',\n",
    "}\n",
    "\n",
    "\n",
    "df['binary_type'] =  df['diagnosis'].map(diagnosis_dict_binary.get)\n",
    "df['type'] = df['diagnosis'].map(diagnosis_dict.get)\n",
    "df.head()"
   ]
  },
  {
   "cell_type": "code",
   "execution_count": 14,
   "id": "959c572f",
   "metadata": {
    "execution": {
     "iopub.execute_input": "2022-08-07T16:38:35.601828Z",
     "iopub.status.busy": "2022-08-07T16:38:35.601553Z",
     "iopub.status.idle": "2022-08-07T16:38:35.816272Z",
     "shell.execute_reply": "2022-08-07T16:38:35.815422Z"
    },
    "id": "hariTLPu5de2",
    "outputId": "e823b0da-b643-4d00-8a5f-9d5c2b6fcc2a",
    "papermill": {
     "duration": 0.233994,
     "end_time": "2022-08-07T16:38:35.818442",
     "exception": false,
     "start_time": "2022-08-07T16:38:35.584448",
     "status": "completed"
    },
    "tags": []
   },
   "outputs": [
    {
     "data": {
      "text/plain": [
       "<AxesSubplot:>"
      ]
     },
     "execution_count": 14,
     "metadata": {},
     "output_type": "execute_result"
    },
    {
     "data": {
      "image/png": "[encoded data removed]",
      "text/plain": [
       "<Figure size 432x288 with 1 Axes>"
      ]
     },
     "metadata": {
      "needs_background": "light"
     },
     "output_type": "display_data"
    }
   ],
   "source": [
    "df['type'].value_counts().plot(kind='barh')"
   ]
  },
  {
   "cell_type": "code",
   "execution_count": 14,
   "id": "018ff67b",
   "metadata": {
    "execution": {
     "iopub.execute_input": "2022-08-07T16:38:35.853313Z",
     "iopub.status.busy": "2022-08-07T16:38:35.852491Z",
     "iopub.status.idle": "2022-08-07T16:38:36.017521Z",
     "shell.execute_reply": "2022-08-07T16:38:36.016664Z"
    },
    "id": "mNpDtYla5de4",
    "outputId": "c7c99fb8-d41a-47e9-dab0-416cea5033ca",
    "papermill": {
     "duration": 0.184793,
     "end_time": "2022-08-07T16:38:36.019495",
     "exception": false,
     "start_time": "2022-08-07T16:38:35.834702",
     "status": "completed"
    },
    "tags": []
   },
   "outputs": [
    {
     "data": {
      "text/plain": [
       "<AxesSubplot:>"
      ]
     },
     "execution_count": 14,
     "metadata": {},
     "output_type": "execute_result"
    },
    {
     "data": {
      "image/png": "[encoded data removed]",
      "text/plain": [
       "<Figure size 432x288 with 1 Axes>"
      ]
     },
     "metadata": {
      "needs_background": "light"
     },
     "output_type": "display_data"
    }
   ],
   "source": [
    "df['binary_type'].value_counts().plot(kind='barh')"
   ]
  },
  {
   "cell_type": "code",
   "execution_count": 15,
   "id": "6275efe1",
   "metadata": {
    "execution": {
     "iopub.execute_input": "2022-08-07T16:38:36.054233Z",
     "iopub.status.busy": "2022-08-07T16:38:36.053964Z",
     "iopub.status.idle": "2022-08-07T16:38:36.073190Z",
     "shell.execute_reply": "2022-08-07T16:38:36.072169Z"
    },
    "id": "4NoJW5jl5de4",
    "outputId": "262e22c1-89c5-4a37-8cc3-396a31e270d0",
    "papermill": {
     "duration": 0.040617,
     "end_time": "2022-08-07T16:38:36.076753",
     "exception": false,
     "start_time": "2022-08-07T16:38:36.036136",
     "status": "completed"
    },
    "tags": []
   },
   "outputs": [
    {
     "name": "stdout",
     "output_type": "stream",
     "text": [
      "No_DR             1263\n",
      "Moderate           699\n",
      "Mild               258\n",
      "Proliferate_DR     207\n",
      "Severe             135\n",
      "Name: type, dtype: int64 \n",
      "\n",
      "No_DR             271\n",
      "Moderate          150\n",
      "Mild               56\n",
      "Proliferate_DR     44\n",
      "Severe             29\n",
      "Name: type, dtype: int64 \n",
      "\n",
      "No_DR             271\n",
      "Moderate          150\n",
      "Mild               56\n",
      "Proliferate_DR     44\n",
      "Severe             29\n",
      "Name: type, dtype: int64 \n",
      "\n"
     ]
    }
   ],
   "source": [
    "# Split into stratified train, val, and test sets\n",
    "train_intermediate, val = train_test_split(df, test_size = 0.15, stratify = df['type'])\n",
    "train, test = train_test_split(train_intermediate, test_size = 0.15 / (1 - 0.15), stratify = train_intermediate['type'])\n",
    "\n",
    "print(train['type'].value_counts(), '\\n')\n",
    "print(test['type'].value_counts(), '\\n')\n",
    "print(val['type'].value_counts(), '\\n')\n"
   ]
  },
  {
   "cell_type": "code",
   "execution_count": 16,
   "id": "e080bfc3",
   "metadata": {
    "execution": {
     "iopub.execute_input": "2022-08-07T16:38:36.112438Z",
     "iopub.status.busy": "2022-08-07T16:38:36.112151Z",
     "iopub.status.idle": "2022-08-07T16:38:36.119836Z",
     "shell.execute_reply": "2022-08-07T16:38:36.118989Z"
    },
    "id": "2UEAgD0W5de6",
    "papermill": {
     "duration": 0.027944,
     "end_time": "2022-08-07T16:38:36.121914",
     "exception": false,
     "start_time": "2022-08-07T16:38:36.093970",
     "status": "completed"
    },
    "tags": []
   },
   "outputs": [],
   "source": [
    "# Create working directories for train/val/test\n",
    "base_dir = ''\n",
    "\n",
    "train_dir = os.path.join(base_dir, 'train')\n",
    "val_dir = os.path.join(base_dir, 'val')\n",
    "test_dir = os.path.join(base_dir, 'test')\n",
    "\n",
    "if os.path.exists(base_dir):\n",
    "    shutil.rmtree(base_dir)\n",
    "\n",
    "if os.path.exists(train_dir):\n",
    "    shutil.rmtree(train_dir)\n",
    "os.makedirs(train_dir)\n",
    "\n",
    "if os.path.exists(val_dir):\n",
    "    shutil.rmtree(val_dir)\n",
    "os.makedirs(val_dir)\n",
    "\n",
    "if os.path.exists(test_dir):\n",
    "    shutil.rmtree(test_dir)\n",
    "os.makedirs(test_dir)\n"
   ]
  },
  {
   "cell_type": "code",
   "execution_count": 18,
   "id": "9943d140",
   "metadata": {
    "execution": {
     "iopub.execute_input": "2022-08-07T16:38:36.156105Z",
     "iopub.status.busy": "2022-08-07T16:38:36.155852Z",
     "iopub.status.idle": "2022-08-07T16:38:54.471729Z",
     "shell.execute_reply": "2022-08-07T16:38:54.470764Z"
    },
    "id": "sweLv9175de9",
    "papermill": {
     "duration": 18.336013,
     "end_time": "2022-08-07T16:38:54.474129",
     "exception": false,
     "start_time": "2022-08-07T16:38:36.138116",
     "status": "completed"
    },
    "tags": []
   },
   "outputs": [],
   "source": [
    "# Copy images to respective working directory\n",
    "src_dir = r'C:/dr_final/gaussian_filtered_images/gaussian_filtered_images'\n",
    "for index, row in train.iterrows():\n",
    "    diagnosis = row['type']\n",
    "    binary_diagnosis = row['binary_type']\n",
    "    id_code = row['id_code'] + \".png\"\n",
    "    srcfile = os.path.join(src_dir, diagnosis, id_code)\n",
    "    dstfile = os.path.join(train_dir, binary_diagnosis)\n",
    "    os.makedirs(dstfile, exist_ok = True)\n",
    "    shutil.copy(srcfile, dstfile)\n",
    "\n",
    "for index, row in val.iterrows():\n",
    "    diagnosis = row['type']\n",
    "    binary_diagnosis = row['binary_type']\n",
    "    id_code = row['id_code'] + \".png\"\n",
    "    srcfile = os.path.join(src_dir, diagnosis, id_code)\n",
    "    dstfile = os.path.join(val_dir, binary_diagnosis)\n",
    "    os.makedirs(dstfile, exist_ok = True)\n",
    "    shutil.copy(srcfile, dstfile)\n",
    " \n",
    "for index, row in test.iterrows():\n",
    "    diagnosis = row['type']\n",
    "    binary_diagnosis = row['binary_type']\n",
    "    id_code = row['id_code'] + \".png\"\n",
    "    srcfile = os.path.join(src_dir, diagnosis, id_code)\n",
    "    dstfile = os.path.join(test_dir, binary_diagnosis)\n",
    "    os.makedirs(dstfile, exist_ok = True)\n",
    "    shutil.copy(srcfile, dstfile)\n"
   ]
  },
  {
   "cell_type": "code",
   "execution_count": 19,
   "id": "b3a949ae",
   "metadata": {
    "execution": {
     "iopub.execute_input": "2022-08-07T16:38:54.609643Z",
     "iopub.status.busy": "2022-08-07T16:38:54.609081Z",
     "iopub.status.idle": "2022-08-07T16:38:55.039994Z",
     "shell.execute_reply": "2022-08-07T16:38:55.039071Z"
    },
    "id": "kcYe-AOO5dfA",
    "outputId": "c816c2a6-1d4b-4488-a5a6-4800819b96d7",
    "papermill": {
     "duration": 0.4838,
     "end_time": "2022-08-07T16:38:55.042285",
     "exception": false,
     "start_time": "2022-08-07T16:38:54.558485",
     "status": "completed"
    },
    "tags": []
   },
   "outputs": [
    {
     "name": "stdout",
     "output_type": "stream",
     "text": [
      "Found 2562 images belonging to 2 classes.\n",
      "Found 550 images belonging to 2 classes.\n",
      "Found 550 images belonging to 2 classes.\n"
     ]
    }
   ],
   "source": [
    "# Setting up ImageDataGenerator for train/val/test \n",
    "\n",
    "train_path = 'train'\n",
    "val_path = 'val'\n",
    "test_path = 'test'\n",
    "\n",
    "train_batches = ImageDataGenerator(rescale = 1./255).flow_from_directory(train_path, target_size=(224,224), shuffle = True)\n",
    "val_batches = ImageDataGenerator(rescale = 1./255).flow_from_directory(val_path, target_size=(224,224), shuffle = True)\n",
    "test_batches = ImageDataGenerator(rescale = 1./255).flow_from_directory(test_path, target_size=(224,224), shuffle = False)\n"
   ]
  },
  {
   "cell_type": "code",
   "execution_count": 20,
   "id": "7d04a49b",
   "metadata": {
    "execution": {
     "iopub.execute_input": "2022-08-07T16:38:55.078073Z",
     "iopub.status.busy": "2022-08-07T16:38:55.077783Z",
     "iopub.status.idle": "2022-08-07T16:43:21.214139Z",
     "shell.execute_reply": "2022-08-07T16:43:21.213180Z"
    },
    "id": "NHgHS22d5dfE",
    "outputId": "6ae2499c-e780-47d0-9165-89c3868c2822",
    "papermill": {
     "duration": 266.156666,
     "end_time": "2022-08-07T16:43:21.216493",
     "exception": false,
     "start_time": "2022-08-07T16:38:55.059827",
     "status": "completed"
    },
    "tags": []
   },
   "outputs": [
    {
     "name": "stdout",
     "output_type": "stream",
     "text": [
      "Epoch 1/30\n",
      "81/81 [==============================] - 60s 742ms/step - loss: 0.4150 - acc: 0.8068 - val_loss: 0.6926 - val_acc: 0.5073\n",
      "Epoch 2/30\n",
      "81/81 [==============================] - 54s 671ms/step - loss: 0.2708 - acc: 0.8845 - val_loss: 0.8938 - val_acc: 0.5073\n",
      "Epoch 3/30\n",
      "81/81 [==============================] - 64s 786ms/step - loss: 0.2324 - acc: 0.9040 - val_loss: 0.9638 - val_acc: 0.5073\n",
      "Epoch 4/30\n",
      "81/81 [==============================] - 59s 725ms/step - loss: 0.2076 - acc: 0.9239 - val_loss: 0.6904 - val_acc: 0.5564\n",
      "Epoch 5/30\n",
      "81/81 [==============================] - 54s 671ms/step - loss: 0.1929 - acc: 0.9309 - val_loss: 0.3385 - val_acc: 0.8364\n",
      "Epoch 6/30\n",
      "81/81 [==============================] - 54s 671ms/step - loss: 0.1798 - acc: 0.9372 - val_loss: 0.2773 - val_acc: 0.8764\n",
      "Epoch 7/30\n",
      "81/81 [==============================] - 54s 668ms/step - loss: 0.1671 - acc: 0.9446 - val_loss: 0.1844 - val_acc: 0.9400\n",
      "Epoch 8/30\n",
      "81/81 [==============================] - 54s 662ms/step - loss: 0.1523 - acc: 0.9454 - val_loss: 0.1694 - val_acc: 0.9418\n",
      "Epoch 9/30\n",
      "81/81 [==============================] - 52s 644ms/step - loss: 0.1450 - acc: 0.9539 - val_loss: 0.1699 - val_acc: 0.9491\n",
      "Epoch 10/30\n",
      "81/81 [==============================] - 61s 750ms/step - loss: 0.1373 - acc: 0.9524 - val_loss: 0.1662 - val_acc: 0.9418\n",
      "Epoch 11/30\n",
      "81/81 [==============================] - 60s 744ms/step - loss: 0.1265 - acc: 0.9586 - val_loss: 0.1653 - val_acc: 0.9455\n",
      "Epoch 12/30\n",
      "81/81 [==============================] - 59s 729ms/step - loss: 0.1199 - acc: 0.9625 - val_loss: 0.1719 - val_acc: 0.9400\n",
      "Epoch 13/30\n",
      "81/81 [==============================] - 57s 701ms/step - loss: 0.1135 - acc: 0.9657 - val_loss: 0.1628 - val_acc: 0.9436\n",
      "Epoch 14/30\n",
      "81/81 [==============================] - 59s 724ms/step - loss: 0.1076 - acc: 0.9660 - val_loss: 0.1591 - val_acc: 0.9473\n",
      "Epoch 15/30\n",
      "81/81 [==============================] - 62s 770ms/step - loss: 0.1018 - acc: 0.9664 - val_loss: 0.1569 - val_acc: 0.9491\n",
      "Epoch 16/30\n",
      "81/81 [==============================] - 57s 704ms/step - loss: 0.0942 - acc: 0.9703 - val_loss: 0.1614 - val_acc: 0.9473\n",
      "Epoch 17/30\n",
      "81/81 [==============================] - 57s 701ms/step - loss: 0.0885 - acc: 0.9719 - val_loss: 0.1630 - val_acc: 0.9509\n",
      "Epoch 18/30\n",
      "81/81 [==============================] - 58s 720ms/step - loss: 0.0808 - acc: 0.9801 - val_loss: 0.1562 - val_acc: 0.9527\n",
      "Epoch 19/30\n",
      "81/81 [==============================] - 56s 696ms/step - loss: 0.0796 - acc: 0.9789 - val_loss: 0.1578 - val_acc: 0.9527\n",
      "Epoch 20/30\n",
      "81/81 [==============================] - 57s 700ms/step - loss: 0.0746 - acc: 0.9797 - val_loss: 0.1574 - val_acc: 0.9527\n",
      "Epoch 21/30\n",
      "81/81 [==============================] - 61s 752ms/step - loss: 0.0716 - acc: 0.9774 - val_loss: 0.1525 - val_acc: 0.9527\n",
      "Epoch 22/30\n",
      "81/81 [==============================] - 58s 716ms/step - loss: 0.0660 - acc: 0.9817 - val_loss: 0.1565 - val_acc: 0.9509\n",
      "Epoch 23/30\n",
      "81/81 [==============================] - 56s 695ms/step - loss: 0.0633 - acc: 0.9852 - val_loss: 0.1527 - val_acc: 0.9509\n",
      "Epoch 24/30\n",
      "81/81 [==============================] - 54s 673ms/step - loss: 0.0578 - acc: 0.9859 - val_loss: 0.1498 - val_acc: 0.9545\n",
      "Epoch 25/30\n",
      "81/81 [==============================] - 54s 673ms/step - loss: 0.0669 - acc: 0.9832 - val_loss: 0.1646 - val_acc: 0.9545\n",
      "Epoch 26/30\n",
      "81/81 [==============================] - 60s 743ms/step - loss: 0.0571 - acc: 0.9871 - val_loss: 0.1590 - val_acc: 0.9545\n",
      "Epoch 27/30\n",
      "81/81 [==============================] - 58s 720ms/step - loss: 0.0526 - acc: 0.9871 - val_loss: 0.1593 - val_acc: 0.9509\n",
      "Epoch 28/30\n",
      "81/81 [==============================] - 56s 697ms/step - loss: 0.0468 - acc: 0.9910 - val_loss: 0.1579 - val_acc: 0.9527\n",
      "Epoch 29/30\n",
      "81/81 [==============================] - 56s 687ms/step - loss: 0.0453 - acc: 0.9922 - val_loss: 0.1721 - val_acc: 0.9564\n",
      "Epoch 30/30\n",
      "81/81 [==============================] - 54s 666ms/step - loss: 0.0426 - acc: 0.9938 - val_loss: 0.1619 - val_acc: 0.9545\n"
     ]
    }
   ],
   "source": [
    "# Building the model\n",
    "\n",
    "model = tf.keras.Sequential([\n",
    "    layers.Conv2D(8, (3,3), padding=\"valid\", input_shape=(224,224,3), activation = 'relu'),\n",
    "    layers.MaxPooling2D(pool_size=(2,2)),\n",
    "    layers.BatchNormalization(),\n",
    "    \n",
    "    layers.Conv2D(16, (3,3), padding=\"valid\", activation = 'relu'),\n",
    "    layers.MaxPooling2D(pool_size=(2,2)),\n",
    "    layers.BatchNormalization(),\n",
    "    \n",
    "    layers.Conv2D(32, (4,4), padding=\"valid\", activation = 'relu'),\n",
    "    layers.MaxPooling2D(pool_size=(2,2)),\n",
    "    layers.BatchNormalization(),\n",
    " \n",
    "    layers.Flatten(),\n",
    "    layers.Dense(32, activation = 'relu'),\n",
    "    layers.Dropout(0.15),\n",
    "    layers.Dense(2, activation = 'softmax')\n",
    "])\n",
    "\n",
    "model.compile(optimizer=tf.keras.optimizers.Adam(lr = 1e-5),\n",
    "              loss=tf.keras.losses.BinaryCrossentropy(),\n",
    "              metrics=['acc'])\n",
    "\n",
    "history = model.fit(train_batches,\n",
    "                    epochs=30,\n",
    "                    validation_data=val_batches)"
   ]
  },
  {
   "cell_type": "code",
   "execution_count": 21,
   "id": "e2efc560",
   "metadata": {
    "execution": {
     "iopub.execute_input": "2022-08-07T16:43:21.497974Z",
     "iopub.status.busy": "2022-08-07T16:43:21.497096Z",
     "iopub.status.idle": "2022-08-07T16:43:23.621211Z",
     "shell.execute_reply": "2022-08-07T16:43:23.620283Z"
    },
    "id": "IBOVVVRc5dfu",
    "outputId": "625ca660-456b-4517-f62d-135583381a45",
    "papermill": {
     "duration": 2.270333,
     "end_time": "2022-08-07T16:43:23.626689",
     "exception": false,
     "start_time": "2022-08-07T16:43:21.356356",
     "status": "completed"
    },
    "tags": []
   },
   "outputs": [
    {
     "name": "stdout",
     "output_type": "stream",
     "text": [
      "WARNING:tensorflow:From c:\\ProgramData\\Anaconda3\\envs\\gpu2\\lib\\site-packages\\tensorflow\\python\\training\\tracking\\tracking.py:111: Model.state_updates (from tensorflow.python.keras.engine.training) is deprecated and will be removed in a future version.\n",
      "Instructions for updating:\n",
      "This property should not be used in TensorFlow 2.0, as updates are applied automatically.\n",
      "WARNING:tensorflow:From c:\\ProgramData\\Anaconda3\\envs\\gpu2\\lib\\site-packages\\tensorflow\\python\\training\\tracking\\tracking.py:111: Layer.updates (from tensorflow.python.keras.engine.base_layer) is deprecated and will be removed in a future version.\n",
      "Instructions for updating:\n",
      "This property should not be used in TensorFlow 2.0, as updates are applied automatically.\n",
      "INFO:tensorflow:Assets written to: 64x3-CNN.model\\assets\n"
     ]
    }
   ],
   "source": [
    "model.save('64x3-CNN.model')"
   ]
  },
  {
   "cell_type": "code",
   "execution_count": 26,
   "id": "6f7cd698",
   "metadata": {},
   "outputs": [
    {
     "name": "stdout",
     "output_type": "stream",
     "text": [
      "<tensorflow.python.keras.preprocessing.image.DirectoryIterator object at 0x000002914F6917B8>\n",
      "<tensorflow.python.keras.preprocessing.image.DirectoryIterator object at 0x000002914F691FD0>\n"
     ]
    }
   ],
   "source": [
    "# from sklearn.metrics import accuracy_score\n",
    "# accuracy_score(test_batches,val_batches)\n",
    "print(val_batches)\n",
    "print(test_batches)\n",
    "\n",
    "test_set = dataset(test_df,f'{path}test_images',image_transform = image_transform,train = False )\n",
    "\n",
    "test_dataloader = DataLoader(test_set, batch_size=32, shuffle=False) #DataLoader for test_set."
   ]
  },
  {
   "cell_type": "code",
   "execution_count": 22,
   "id": "755164b7",
   "metadata": {
    "execution": {
     "iopub.execute_input": "2022-08-07T16:43:23.905781Z",
     "iopub.status.busy": "2022-08-07T16:43:23.905435Z",
     "iopub.status.idle": "2022-08-07T16:43:25.467514Z",
     "shell.execute_reply": "2022-08-07T16:43:25.466436Z"
    },
    "id": "IgJED3835dfv",
    "outputId": "62f56046-72c3-48ce-ad85-4dcce241a976",
    "papermill": {
     "duration": 1.705182,
     "end_time": "2022-08-07T16:43:25.470202",
     "exception": false,
     "start_time": "2022-08-07T16:43:23.765020",
     "status": "completed"
    },
    "tags": []
   },
   "outputs": [
    {
     "name": "stdout",
     "output_type": "stream",
     "text": [
      "WARNING:tensorflow:From <ipython-input-22-f081ff5ff9c3>:1: Model.evaluate_generator (from tensorflow.python.keras.engine.training) is deprecated and will be removed in a future version.\n",
      "Instructions for updating:\n",
      "Please use Model.evaluate, which supports generators.\n",
      "18/18 [==============================] - 5s 288ms/step - loss: 0.1652 - acc: 0.9382\n",
      "Accuracy:  0.9381818175315857\n"
     ]
    }
   ],
   "source": [
    "image_transform = transforms.Compose([transforms.Resize([512,512]),\n",
    "                                      transforms.ToTensor(),\n",
    "                                      transforms.Normalize((0.485, 0.456, 0.406), (0.229, 0.224, 0.225))]) #Transformations to apply to the image.\n",
    "data_set = dataset(train_df,f'{path}train_images',image_transform=image_transform)\n",
    "\n",
    "#Split the data_set so that valid_set contains 0.1 samples of the data_set. \n",
    "train_set,valid_set = torch.utils.data.random_split(data_set,[3302,360])"
   ]
  },
  {
   "cell_type": "markdown",
   "id": "8198e0a7",
   "metadata": {
    "papermill": {
     "duration": 0.138913,
     "end_time": "2022-08-07T16:43:25.802315",
     "exception": false,
     "start_time": "2022-08-07T16:43:25.663402",
     "status": "completed"
    },
    "tags": []
   },
   "source": [
    "# ****Diabet Retinopathy Detection Section****"
   ]
  },
  {
   "cell_type": "code",
   "execution_count": 26,
   "id": "41a56bbd",
   "metadata": {},
   "outputs": [
    {
     "name": "stdout",
     "output_type": "stream",
     "text": [
      "Requirement already satisfied: pip in c:\\programdata\\anaconda3\\envs\\gpu2\\lib\\site-packages (21.2.2)\n",
      "Collecting pip\n",
      "  Using cached pip-21.3.1-py3-none-any.whl (1.7 MB)\n",
      "Requirement already satisfied: setuptools in c:\\programdata\\anaconda3\\envs\\gpu2\\lib\\site-packages (58.0.4)\n",
      "Collecting setuptools\n",
      "  Downloading setuptools-59.6.0-py3-none-any.whl (952 kB)\n",
      "Requirement already satisfied: wheel in c:\\programdata\\anaconda3\\envs\\gpu2\\lib\\site-packages (0.37.1)\n",
      "Installing collected packages: setuptools, pip\n",
      "  Attempting uninstall: setuptools\n",
      "    Found existing installation: setuptools 58.0.4\n",
      "    Uninstalling setuptools-58.0.4:\n",
      "      Successfully uninstalled setuptools-58.0.4\n",
      "  Attempting uninstall: pip\n",
      "    Found existing installation: pip 21.2.2\n",
      "    Uninstalling pip-21.2.2:\n",
      "      Successfully uninstalled pip-21.2.2\n",
      "Successfully installed pip-21.3.1 setuptools-59.6.0\n",
      "Note: you may need to restart the kernel to use updated packages.\n"
     ]
    }
   ],
   "source": [
    "pip install --upgrade pip setuptools wheel"
   ]
  },
  {
   "cell_type": "code",
   "execution_count": 28,
   "id": "cd901ca0",
   "metadata": {},
   "outputs": [
    {
     "name": "stdout",
     "output_type": "stream",
     "text": [
      "Collecting opencv-python==4.1.2.30\n",
      "  Downloading opencv_python-4.1.2.30-cp36-cp36m-win_amd64.whl (33.0 MB)\n",
      "Requirement already satisfied: numpy>=1.11.3 in c:\\programdata\\anaconda3\\envs\\gpu2\\lib\\site-packages (from opencv-python==4.1.2.30) (1.19.5)\n",
      "Installing collected packages: opencv-python\n",
      "Successfully installed opencv-python-4.1.2.30\n",
      "Note: you may need to restart the kernel to use updated packages.\n"
     ]
    }
   ],
   "source": [
    "pip install opencv-python==4.1.2.30"
   ]
  },
  {
   "cell_type": "code",
   "execution_count": 1,
   "id": "b4c98a9e",
   "metadata": {
    "execution": {
     "iopub.execute_input": "2022-08-07T16:43:26.083274Z",
     "iopub.status.busy": "2022-08-07T16:43:26.082924Z",
     "iopub.status.idle": "2022-08-07T16:43:26.253449Z",
     "shell.execute_reply": "2022-08-07T16:43:26.252489Z"
    },
    "papermill": {
     "duration": 0.314082,
     "end_time": "2022-08-07T16:43:26.255602",
     "exception": false,
     "start_time": "2022-08-07T16:43:25.941520",
     "status": "completed"
    },
    "tags": []
   },
   "outputs": [],
   "source": [
    "import tensorflow as tf\n",
    "import cv2\n",
    "import numpy as np\n",
    "import matplotlib.pyplot as plt\n",
    "\n",
    "\n",
    "def predict_class(path):\n",
    "    img = cv2.imread(path)\n",
    "\n",
    "    RGBImg = cv2.cvtColor(img,cv2.COLOR_BGR2RGB)\n",
    "    RGBImg= cv2.resize(RGBImg,(224,224))\n",
    "    plt.imshow(RGBImg)\n",
    "    image = np.array(RGBImg) / 255.0\n",
    "    new_model = tf.keras.models.load_model(\"64x3-CNN.model\")\n",
    "    predict=new_model.predict(np.array([image]))\n",
    "    per=np.argmax(predict,axis=1)\n",
    "    if per==1:\n",
    "        print('No DR')\n",
    "    else:\n",
    "        print('DR')\n",
    "    \n",
    "\n",
    "    "
   ]
  },
  {
   "cell_type": "code",
   "execution_count": 2,
   "id": "c1dcd35d",
   "metadata": {
    "execution": {
     "iopub.execute_input": "2022-08-07T16:43:26.539834Z",
     "iopub.status.busy": "2022-08-07T16:43:26.539237Z",
     "iopub.status.idle": "2022-08-07T16:43:27.592276Z",
     "shell.execute_reply": "2022-08-07T16:43:27.591288Z"
    },
    "papermill": {
     "duration": 1.199096,
     "end_time": "2022-08-07T16:43:27.594547",
     "exception": false,
     "start_time": "2022-08-07T16:43:26.395451",
     "status": "completed"
    },
    "tags": []
   },
   "outputs": [
    {
     "name": "stdout",
     "output_type": "stream",
     "text": [
      "DR\n"
     ]
    },
    {
     "data": {
      "image/png": "[encoded data removed]",
      "text/plain": [
       "<Figure size 432x288 with 1 Axes>"
      ]
     },
     "metadata": {
      "needs_background": "light"
     },
     "output_type": "display_data"
    }
   ],
   "source": [
    "predict_class('C:/dr_final/gaussian_filtered_images/gaussian_filtered_images/Severe/03c85870824c.png')"
   ]
  },
  {
   "cell_type": "markdown",
   "id": "b8bd10dd",
   "metadata": {
    "papermill": {
     "duration": 0.142302,
     "end_time": "2022-08-07T16:43:27.881791",
     "exception": false,
     "start_time": "2022-08-07T16:43:27.739489",
     "status": "completed"
    },
    "tags": []
   },
   "source": [
    "\n"
   ]
  },
  {
   "cell_type": "code",
   "execution_count": 34,
   "id": "5b7d615a",
   "metadata": {},
   "outputs": [
    {
     "name": "stdout",
     "output_type": "stream",
     "text": [
      "Collecting streamlit\n",
      "  Downloading streamlit-1.10.0-py2.py3-none-any.whl (9.1 MB)\n",
      "Requirement already satisfied: protobuf<4,>=3.12 in c:\\programdata\\anaconda3\\envs\\gpu2\\lib\\site-packages (from streamlit) (3.19.6)\n",
      "Collecting click>=7.0\n",
      "  Downloading click-8.0.4-py3-none-any.whl (97 kB)\n",
      "Requirement already satisfied: requests in c:\\programdata\\anaconda3\\envs\\gpu2\\lib\\site-packages (from streamlit) (2.27.1)\n",
      "Collecting semver\n",
      "  Downloading semver-2.13.0-py2.py3-none-any.whl (12 kB)\n",
      "Collecting toml\n",
      "  Using cached toml-0.10.2-py2.py3-none-any.whl (16 kB)\n",
      "Collecting watchdog\n",
      "  Downloading watchdog-2.3.1-py3-none-win_amd64.whl (80 kB)\n",
      "Requirement already satisfied: importlib-metadata>=1.4 in c:\\programdata\\anaconda3\\envs\\gpu2\\lib\\site-packages (from streamlit) (4.8.3)\n",
      "Collecting tzlocal\n",
      "  Downloading tzlocal-4.2-py3-none-any.whl (19 kB)\n",
      "Collecting attrs\n",
      "  Downloading attrs-22.2.0-py3-none-any.whl (60 kB)\n",
      "Requirement already satisfied: numpy in c:\\programdata\\anaconda3\\envs\\gpu2\\lib\\site-packages (from streamlit) (1.19.5)\n",
      "Collecting pyarrow\n",
      "  Downloading pyarrow-6.0.1-cp36-cp36m-win_amd64.whl (15.4 MB)\n",
      "Collecting blinker\n",
      "  Downloading blinker-1.5-py2.py3-none-any.whl (12 kB)\n",
      "Requirement already satisfied: pandas>=0.21.0 in c:\\programdata\\anaconda3\\envs\\gpu2\\lib\\site-packages (from streamlit) (1.1.5)\n",
      "Requirement already satisfied: pillow>=6.2.0 in c:\\programdata\\anaconda3\\envs\\gpu2\\lib\\site-packages (from streamlit) (8.4.0)\n",
      "Collecting validators\n",
      "  Using cached validators-0.20.0.tar.gz (30 kB)\n",
      "  Preparing metadata (setup.py): started\n",
      "  Preparing metadata (setup.py): finished with status 'done'\n",
      "Collecting rich\n",
      "  Downloading rich-12.6.0-py3-none-any.whl (237 kB)\n",
      "Collecting gitpython!=3.1.19\n",
      "  Downloading GitPython-3.1.18-py3-none-any.whl (170 kB)\n",
      "Requirement already satisfied: typing-extensions in c:\\programdata\\anaconda3\\envs\\gpu2\\lib\\site-packages (from streamlit) (3.7.4.3)\n",
      "Requirement already satisfied: cachetools>=4.0 in c:\\programdata\\anaconda3\\envs\\gpu2\\lib\\site-packages (from streamlit) (4.2.4)\n",
      "Collecting pydeck>=0.1.dev5\n",
      "  Downloading pydeck-0.6.2-py2.py3-none-any.whl (4.2 MB)\n",
      "Collecting altair>=3.2.0\n",
      "  Downloading altair-4.1.0-py3-none-any.whl (727 kB)\n",
      "Requirement already satisfied: tornado>=5.0 in c:\\programdata\\anaconda3\\envs\\gpu2\\lib\\site-packages (from streamlit) (6.1)\n",
      "Collecting pympler>=0.9\n",
      "  Using cached Pympler-1.0.1-py3-none-any.whl (164 kB)\n",
      "Collecting packaging\n",
      "  Using cached packaging-21.3-py3-none-any.whl (40 kB)\n",
      "Requirement already satisfied: python-dateutil in c:\\programdata\\anaconda3\\envs\\gpu2\\lib\\site-packages (from streamlit) (2.8.2)\n",
      "Collecting jsonschema\n",
      "  Downloading jsonschema-3.2.0-py2.py3-none-any.whl (56 kB)\n",
      "Collecting toolz\n",
      "  Downloading toolz-0.12.0-py3-none-any.whl (55 kB)\n",
      "Requirement already satisfied: entrypoints in c:\\programdata\\anaconda3\\envs\\gpu2\\lib\\site-packages (from altair>=3.2.0->streamlit) (0.3)\n",
      "Collecting jinja2\n",
      "  Downloading Jinja2-3.0.3-py3-none-any.whl (133 kB)\n",
      "Requirement already satisfied: colorama in c:\\programdata\\anaconda3\\envs\\gpu2\\lib\\site-packages (from click>=7.0->streamlit) (0.4.4)\n",
      "Collecting gitdb<5,>=4.0.1\n",
      "  Downloading gitdb-4.0.9-py3-none-any.whl (63 kB)\n",
      "Requirement already satisfied: zipp>=0.5 in c:\\programdata\\anaconda3\\envs\\gpu2\\lib\\site-packages (from importlib-metadata>=1.4->streamlit) (3.6.0)\n",
      "Requirement already satisfied: pytz>=2017.2 in c:\\programdata\\anaconda3\\envs\\gpu2\\lib\\site-packages (from pandas>=0.21.0->streamlit) (2022.7.1)\n",
      "Collecting ipywidgets>=7.0.0\n",
      "  Downloading ipywidgets-7.7.5-py2.py3-none-any.whl (123 kB)\n",
      "Requirement already satisfied: ipykernel>=5.1.2 in c:\\programdata\\anaconda3\\envs\\gpu2\\lib\\site-packages (from pydeck>=0.1.dev5->streamlit) (5.3.4)\n",
      "Requirement already satisfied: traitlets>=4.3.2 in c:\\programdata\\anaconda3\\envs\\gpu2\\lib\\site-packages (from pydeck>=0.1.dev5->streamlit) (4.3.3)\n",
      "Requirement already satisfied: six>=1.5 in c:\\programdata\\anaconda3\\envs\\gpu2\\lib\\site-packages (from python-dateutil->streamlit) (1.15.0)\n",
      "Requirement already satisfied: pyparsing!=3.0.5,>=2.0.2 in c:\\programdata\\anaconda3\\envs\\gpu2\\lib\\site-packages (from packaging->streamlit) (3.0.9)\n",
      "Requirement already satisfied: certifi>=2017.4.17 in c:\\programdata\\anaconda3\\envs\\gpu2\\lib\\site-packages (from requests->streamlit) (2021.5.30)\n",
      "Requirement already satisfied: idna<4,>=2.5 in c:\\programdata\\anaconda3\\envs\\gpu2\\lib\\site-packages (from requests->streamlit) (3.4)\n",
      "Requirement already satisfied: charset-normalizer~=2.0.0 in c:\\programdata\\anaconda3\\envs\\gpu2\\lib\\site-packages (from requests->streamlit) (2.0.12)\n",
      "Requirement already satisfied: urllib3<1.27,>=1.21.1 in c:\\programdata\\anaconda3\\envs\\gpu2\\lib\\site-packages (from requests->streamlit) (1.26.14)\n",
      "Collecting typing-extensions\n",
      "  Using cached typing_extensions-4.1.1-py3-none-any.whl (26 kB)\n",
      "Requirement already satisfied: pygments<3.0.0,>=2.6.0 in c:\\programdata\\anaconda3\\envs\\gpu2\\lib\\site-packages (from rich->streamlit) (2.11.2)\n",
      "Requirement already satisfied: dataclasses<0.9,>=0.7 in c:\\programdata\\anaconda3\\envs\\gpu2\\lib\\site-packages (from rich->streamlit) (0.8)\n",
      "Collecting commonmark<0.10.0,>=0.9.0\n",
      "  Downloading commonmark-0.9.1-py2.py3-none-any.whl (51 kB)\n",
      "Collecting pytz-deprecation-shim\n",
      "  Downloading pytz_deprecation_shim-0.1.0.post0-py2.py3-none-any.whl (15 kB)\n",
      "Collecting backports.zoneinfo\n",
      "  Downloading backports.zoneinfo-0.2.1-cp36-cp36m-win_amd64.whl (38 kB)\n",
      "Collecting tzdata\n",
      "  Using cached tzdata-2023.3-py2.py3-none-any.whl (341 kB)\n",
      "Requirement already satisfied: decorator>=3.4.0 in c:\\programdata\\anaconda3\\envs\\gpu2\\lib\\site-packages (from validators->streamlit) (5.1.1)\n",
      "Collecting smmap<6,>=3.0.1\n",
      "  Using cached smmap-5.0.0-py3-none-any.whl (24 kB)\n",
      "Requirement already satisfied: jupyter-client in c:\\programdata\\anaconda3\\envs\\gpu2\\lib\\site-packages (from ipykernel>=5.1.2->pydeck>=0.1.dev5->streamlit) (7.1.2)\n",
      "Requirement already satisfied: ipython>=5.0.0 in c:\\programdata\\anaconda3\\envs\\gpu2\\lib\\site-packages (from ipykernel>=5.1.2->pydeck>=0.1.dev5->streamlit) (7.16.1)\n",
      "Note: you may need to restart the kernel to use updated packages.\n"
     ]
    },
    {
     "name": "stderr",
     "output_type": "stream",
     "text": [
      "  ERROR: Command errored out with exit status 1:\n",
      "   command: 'c:\\ProgramData\\Anaconda3\\envs\\gpu2\\python.exe' 'c:\\ProgramData\\Anaconda3\\envs\\gpu2\\lib\\site-packages\\pip\\_vendor\\pep517\\in_process\\_in_process.py' prepare_metadata_for_build_wheel 'C:\\Users\\Abhi\\AppData\\Local\\Temp\\tmpee7wuofv'\n",
      "       cwd: C:\\Users\\Abhi\\AppData\\Local\\Temp\\pip-install-oodjlwo1\\pywinpty_6451f62e792f4403a6b23e86b84f7c6e\n",
      "  Complete output (6 lines):\n",
      "  Checking for Rust toolchain....\n",
      "  \n",
      "  Cargo, the Rust package manager, is not installed or is not on PATH.\n",
      "  This package requires Rust and Cargo to compile extensions. Install it through\n",
      "  the system's package manager or via https://rustup.rs/\n",
      "  \n",
      "  ----------------------------------------\n",
      "WARNING: Discarding https://files.pythonhosted.org/packages/c3/61/bda90dba80bc6cb905acebd0bf0710777ab04feb29d0f438202da0e82d72/pywinpty-2.0.3.tar.gz#sha256=6b29a826e896105370c38d53904c3aaac6c36146a50448fc0ed5082cf9d092bc (from https://pypi.org/simple/pywinpty/) (requires-python:>=3.6). Command errored out with exit status 1: 'c:\\ProgramData\\Anaconda3\\envs\\gpu2\\python.exe' 'c:\\ProgramData\\Anaconda3\\envs\\gpu2\\lib\\site-packages\\pip\\_vendor\\pep517\\in_process\\_in_process.py' prepare_metadata_for_build_wheel 'C:\\Users\\Abhi\\AppData\\Local\\Temp\\tmpee7wuofv' Check the logs for full command output.\n",
      "  ERROR: Command errored out with exit status 1:\n",
      "   command: 'c:\\ProgramData\\Anaconda3\\envs\\gpu2\\python.exe' 'c:\\ProgramData\\Anaconda3\\envs\\gpu2\\lib\\site-packages\\pip\\_vendor\\pep517\\in_process\\_in_process.py' prepare_metadata_for_build_wheel 'C:\\Users\\Abhi\\AppData\\Local\\Temp\\tmpwr25v6gl'\n",
      "       cwd: C:\\Users\\Abhi\\AppData\\Local\\Temp\\pip-install-oodjlwo1\\pywinpty_5e31f5b266b7439989cbd4cd207f370c\n",
      "  Complete output (6 lines):\n",
      "  Checking for Rust toolchain....\n",
      "  \n",
      "  Cargo, the Rust package manager, is not installed or is not on PATH.\n",
      "  This package requires Rust and Cargo to compile extensions. Install it through\n",
      "  the system's package manager or via https://rustup.rs/\n",
      "  \n",
      "  ----------------------------------------\n",
      "WARNING: Discarding https://files.pythonhosted.org/packages/43/88/f7d9b3b45a8b6109f60702cfa3b011edf7cfd8d2680f738bc4d1cb120897/pywinpty-2.0.2.tar.gz#sha256=20ec117183f79642eff555ce0dd1823f942618d65813fb6122d14b6e34b5d05a (from https://pypi.org/simple/pywinpty/) (requires-python:>=3.6). Command errored out with exit status 1: 'c:\\ProgramData\\Anaconda3\\envs\\gpu2\\python.exe' 'c:\\ProgramData\\Anaconda3\\envs\\gpu2\\lib\\site-packages\\pip\\_vendor\\pep517\\in_process\\_in_process.py' prepare_metadata_for_build_wheel 'C:\\Users\\Abhi\\AppData\\Local\\Temp\\tmpwr25v6gl' Check the logs for full command output.\n",
      "  ERROR: Command errored out with exit status 1:\n",
      "   command: 'c:\\ProgramData\\Anaconda3\\envs\\gpu2\\python.exe' 'c:\\ProgramData\\Anaconda3\\envs\\gpu2\\lib\\site-packages\\pip\\_vendor\\pep517\\in_process\\_in_process.py' prepare_metadata_for_build_wheel 'C:\\Users\\Abhi\\AppData\\Local\\Temp\\tmpvssec876'\n",
      "       cwd: C:\\Users\\Abhi\\AppData\\Local\\Temp\\pip-install-oodjlwo1\\pywinpty_2c7382515a9b4022aa79198a03f86d43\n",
      "  Complete output (6 lines):\n",
      "  Checking for Rust toolchain....\n",
      "  \n",
      "  Cargo, the Rust package manager, is not installed or is not on PATH.\n",
      "  This package requires Rust and Cargo to compile extensions. Install it through\n",
      "  the system's package manager or via https://rustup.rs/\n",
      "  \n",
      "  ----------------------------------------\n",
      "WARNING: Discarding https://files.pythonhosted.org/packages/b0/85/4a563e195fd5de30e4e18c51a4c398adbcbf656ca9166182ee44e2454719/pywinpty-2.0.1.tar.gz#sha256=14e7321c6d43743af0de175fca9f111c5cc8d0a9f7c608c9e1cc69ec0d6ac146 (from https://pypi.org/simple/pywinpty/) (requires-python:>=3.6). Command errored out with exit status 1: 'c:\\ProgramData\\Anaconda3\\envs\\gpu2\\python.exe' 'c:\\ProgramData\\Anaconda3\\envs\\gpu2\\lib\\site-packages\\pip\\_vendor\\pep517\\in_process\\_in_process.py' prepare_metadata_for_build_wheel 'C:\\Users\\Abhi\\AppData\\Local\\Temp\\tmpvssec876' Check the logs for full command output.\n"
     ]
    },
    {
     "name": "stdout",
     "output_type": "stream",
     "text": [
      "Collecting jupyterlab-widgets<3,>=1.0.0\n",
      "  Downloading jupyterlab_widgets-1.1.4-py3-none-any.whl (246 kB)\n",
      "Requirement already satisfied: ipython-genutils~=0.2.0 in c:\\programdata\\anaconda3\\envs\\gpu2\\lib\\site-packages (from ipywidgets>=7.0.0->pydeck>=0.1.dev5->streamlit) (0.2.0)\n",
      "Collecting widgetsnbextension~=3.6.4\n",
      "  Downloading widgetsnbextension-3.6.4-py2.py3-none-any.whl (1.6 MB)\n",
      "Collecting MarkupSafe>=2.0\n",
      "  Downloading MarkupSafe-2.0.1-cp36-cp36m-win_amd64.whl (14 kB)\n",
      "Collecting importlib-resources\n",
      "  Downloading importlib_resources-5.4.0-py3-none-any.whl (28 kB)\n",
      "Collecting pyrsistent>=0.14.0\n",
      "  Downloading pyrsistent-0.18.0-cp36-cp36m-win_amd64.whl (62 kB)\n",
      "Requirement already satisfied: setuptools in c:\\programdata\\anaconda3\\envs\\gpu2\\lib\\site-packages (from jsonschema->altair>=3.2.0->streamlit) (59.6.0)\n",
      "Requirement already satisfied: pickleshare in c:\\programdata\\anaconda3\\envs\\gpu2\\lib\\site-packages (from ipython>=5.0.0->ipykernel>=5.1.2->pydeck>=0.1.dev5->streamlit) (0.7.5)\n",
      "Requirement already satisfied: backcall in c:\\programdata\\anaconda3\\envs\\gpu2\\lib\\site-packages (from ipython>=5.0.0->ipykernel>=5.1.2->pydeck>=0.1.dev5->streamlit) (0.2.0)\n",
      "Requirement already satisfied: jedi>=0.10 in c:\\programdata\\anaconda3\\envs\\gpu2\\lib\\site-packages (from ipython>=5.0.0->ipykernel>=5.1.2->pydeck>=0.1.dev5->streamlit) (0.18.0)\n",
      "Requirement already satisfied: prompt-toolkit!=3.0.0,!=3.0.1,<3.1.0,>=2.0.0 in c:\\programdata\\anaconda3\\envs\\gpu2\\lib\\site-packages (from ipython>=5.0.0->ipykernel>=5.1.2->pydeck>=0.1.dev5->streamlit) (3.0.20)\n",
      "Collecting notebook>=4.4.1\n",
      "  Downloading notebook-6.4.10-py3-none-any.whl (9.9 MB)\n",
      "Requirement already satisfied: pyzmq>=13 in c:\\programdata\\anaconda3\\envs\\gpu2\\lib\\site-packages (from jupyter-client->ipykernel>=5.1.2->pydeck>=0.1.dev5->streamlit) (22.2.1)\n",
      "Requirement already satisfied: jupyter-core>=4.6.0 in c:\\programdata\\anaconda3\\envs\\gpu2\\lib\\site-packages (from jupyter-client->ipykernel>=5.1.2->pydeck>=0.1.dev5->streamlit) (4.8.1)\n",
      "Requirement already satisfied: nest-asyncio>=1.5 in c:\\programdata\\anaconda3\\envs\\gpu2\\lib\\site-packages (from jupyter-client->ipykernel>=5.1.2->pydeck>=0.1.dev5->streamlit) (1.5.1)\n",
      "Requirement already satisfied: parso<0.9.0,>=0.8.0 in c:\\programdata\\anaconda3\\envs\\gpu2\\lib\\site-packages (from jedi>=0.10->ipython>=5.0.0->ipykernel>=5.1.2->pydeck>=0.1.dev5->streamlit) (0.8.3)\n",
      "Requirement already satisfied: pywin32>=1.0 in c:\\programdata\\anaconda3\\envs\\gpu2\\lib\\site-packages (from jupyter-core>=4.6.0->jupyter-client->ipykernel>=5.1.2->pydeck>=0.1.dev5->streamlit) (228)\n",
      "Collecting nbconvert>=5\n",
      "  Downloading nbconvert-6.0.7-py3-none-any.whl (552 kB)\n",
      "Collecting Send2Trash>=1.8.0\n",
      "  Downloading Send2Trash-1.8.2-py3-none-any.whl (18 kB)\n",
      "Collecting terminado>=0.8.3\n",
      "  Downloading terminado-0.12.1-py3-none-any.whl (15 kB)\n",
      "Collecting argon2-cffi\n",
      "  Downloading argon2_cffi-21.3.0-py3-none-any.whl (14 kB)\n",
      "Collecting prometheus-client\n",
      "  Downloading prometheus_client-0.16.0-py3-none-any.whl (122 kB)\n",
      "Collecting nbformat\n",
      "  Downloading nbformat-5.1.3-py3-none-any.whl (178 kB)\n",
      "Requirement already satisfied: wcwidth in c:\\programdata\\anaconda3\\envs\\gpu2\\lib\\site-packages (from prompt-toolkit!=3.0.0,!=3.0.1,<3.1.0,>=2.0.0->ipython>=5.0.0->ipykernel>=5.1.2->pydeck>=0.1.dev5->streamlit) (0.2.5)\n",
      "Collecting pandocfilters>=1.4.1\n",
      "  Downloading pandocfilters-1.5.0-py2.py3-none-any.whl (8.7 kB)\n",
      "Collecting defusedxml\n",
      "  Downloading defusedxml-0.7.1-py2.py3-none-any.whl (25 kB)\n",
      "Collecting testpath\n",
      "  Downloading testpath-0.6.0-py3-none-any.whl (83 kB)\n",
      "Collecting mistune<2,>=0.8.1\n",
      "  Downloading mistune-0.8.4-py2.py3-none-any.whl (16 kB)\n",
      "Collecting bleach\n",
      "  Downloading bleach-4.1.0-py2.py3-none-any.whl (157 kB)\n",
      "Collecting jupyterlab-pygments\n",
      "  Downloading jupyterlab_pygments-0.1.2-py2.py3-none-any.whl (4.6 kB)\n",
      "Collecting nbclient<0.6.0,>=0.5.0\n",
      "  Downloading nbclient-0.5.9-py3-none-any.whl (69 kB)\n",
      "Collecting pywinpty>=1.1.0\n",
      "  Downloading pywinpty-2.0.3.tar.gz (23 kB)\n",
      "  Installing build dependencies: started\n",
      "  Installing build dependencies: finished with status 'done'\n",
      "  Getting requirements to build wheel: started\n",
      "  Getting requirements to build wheel: finished with status 'done'\n",
      "  Preparing metadata (pyproject.toml): started\n",
      "  Preparing metadata (pyproject.toml): finished with status 'error'\n",
      "  Downloading pywinpty-2.0.2.tar.gz (22 kB)\n",
      "  Installing build dependencies: started\n",
      "  Installing build dependencies: finished with status 'done'\n",
      "  Getting requirements to build wheel: started\n",
      "  Getting requirements to build wheel: finished with status 'done'\n",
      "  Preparing metadata (pyproject.toml): started\n",
      "  Preparing metadata (pyproject.toml): finished with status 'error'\n",
      "  Downloading pywinpty-2.0.1.tar.gz (22 kB)\n",
      "  Installing build dependencies: started\n",
      "  Installing build dependencies: finished with status 'done'\n",
      "  Getting requirements to build wheel: started\n",
      "  Getting requirements to build wheel: finished with status 'done'\n",
      "  Preparing metadata (pyproject.toml): started\n",
      "  Preparing metadata (pyproject.toml): finished with status 'error'\n",
      "  Downloading pywinpty-1.1.6-cp36-none-win_amd64.whl (1.4 MB)\n",
      "Collecting argon2-cffi-bindings\n",
      "  Downloading argon2_cffi_bindings-21.2.0-cp36-abi3-win_amd64.whl (30 kB)\n",
      "Collecting async-generator\n",
      "  Downloading async_generator-1.10-py3-none-any.whl (18 kB)\n",
      "Collecting cffi>=1.0.1\n",
      "  Downloading cffi-1.15.1-cp36-cp36m-win_amd64.whl (187 kB)\n",
      "Collecting webencodings\n",
      "  Downloading webencodings-0.5.1-py2.py3-none-any.whl (11 kB)\n",
      "Collecting pycparser\n",
      "  Downloading pycparser-2.21-py2.py3-none-any.whl (118 kB)\n",
      "Building wheels for collected packages: validators\n",
      "  Building wheel for validators (setup.py): started\n",
      "  Building wheel for validators (setup.py): finished with status 'done'\n",
      "  Created wheel for validators: filename=validators-0.20.0-py3-none-any.whl size=19582 sha256=99ebb9153d67a4544042b4d061920edb0b063931dbcebe7786478af9aafec6e9\n",
      "  Stored in directory: c:\\users\\abhi\\appdata\\local\\pip\\cache\\wheels\\c6\\eb\\0c\\fc63cc3975728b21fd16b398f94d2b002774e7e5c22cf11c76\n",
      "Successfully built validators\n",
      "Installing collected packages: typing-extensions, pyrsistent, attrs, pycparser, jsonschema, webencodings, packaging, nbformat, MarkupSafe, cffi, async-generator, testpath, pywinpty, pandocfilters, nbclient, mistune, jupyterlab-pygments, jinja2, defusedxml, bleach, argon2-cffi-bindings, terminado, Send2Trash, prometheus-client, nbconvert, argon2-cffi, notebook, importlib-resources, widgetsnbextension, tzdata, smmap, jupyterlab-widgets, backports.zoneinfo, toolz, pytz-deprecation-shim, ipywidgets, gitdb, commonmark, watchdog, validators, tzlocal, toml, semver, rich, pympler, pydeck, pyarrow, gitpython, click, blinker, altair, streamlit\n",
      "  Attempting uninstall: typing-extensions\n",
      "    Found existing installation: typing-extensions 3.7.4.3\n",
      "    Uninstalling typing-extensions-3.7.4.3:\n",
      "      Successfully uninstalled typing-extensions-3.7.4.3\n",
      "Successfully installed MarkupSafe-2.0.1 Send2Trash-1.8.2 altair-4.1.0 argon2-cffi-21.3.0 argon2-cffi-bindings-21.2.0 async-generator-1.10 attrs-22.2.0 backports.zoneinfo-0.2.1 bleach-4.1.0 blinker-1.5 cffi-1.15.1 click-8.0.4 commonmark-0.9.1 defusedxml-0.7.1 gitdb-4.0.9 gitpython-3.1.18 importlib-resources-5.4.0 ipywidgets-7.7.5 jinja2-3.0.3 jsonschema-3.2.0 jupyterlab-pygments-0.1.2 jupyterlab-widgets-1.1.4 mistune-0.8.4 nbclient-0.5.9 nbconvert-6.0.7 nbformat-5.1.3 notebook-6.4.10 packaging-21.3 pandocfilters-1.5.0 prometheus-client-0.16.0 pyarrow-6.0.1 pycparser-2.21 pydeck-0.6.2 pympler-1.0.1 pyrsistent-0.18.0 pytz-deprecation-shim-0.1.0.post0 pywinpty-1.1.6 rich-12.6.0 semver-2.13.0 smmap-5.0.0 streamlit-1.10.0 terminado-0.12.1 testpath-0.6.0 toml-0.10.2 toolz-0.12.0 typing-extensions-4.1.1 tzdata-2023.3 tzlocal-4.2 validators-0.20.0 watchdog-2.3.1 webencodings-0.5.1 widgetsnbextension-3.6.4\n"
     ]
    }
   ],
   "source": [
    "pip install streamlit"
   ]
  },
  {
   "cell_type": "code",
   "execution_count": 6,
   "id": "7e69bb13",
   "metadata": {},
   "outputs": [],
   "source": [
    "model = tf.keras.models.load_model('64x3-CNN.model')"
   ]
  },
  {
   "cell_type": "code",
   "execution_count": 5,
   "id": "a3856471",
   "metadata": {
    "papermill": {
     "duration": 0.141831,
     "end_time": "2022-08-07T16:43:28.456828",
     "exception": false,
     "start_time": "2022-08-07T16:43:28.314997",
     "status": "completed"
    },
    "tags": []
   },
   "outputs": [
    {
     "name": "stderr",
     "output_type": "stream",
     "text": [
      "2023-06-05 02:18:32.374 \n",
      "  \u001b[33m\u001b[1mWarning:\u001b[0m to view this Streamlit app on a browser, run it with the following\n",
      "  command:\n",
      "\n",
      "    streamlit run c:\\ProgramData\\Anaconda3\\envs\\gpu2\\lib\\site-packages\\ipykernel_launcher.py [ARGUMENTS]\n"
     ]
    }
   ],
   "source": [
    "import streamlit as st\n",
    "st.write(\"\"\"\n",
    "         # DR Prediction\n",
    "         \"\"\"\n",
    "         )\n",
    "st.write(\"This is a simple image classification web app to predict dr\")\n",
    "file = st.file_uploader(\"Please upload an image file\", type=[\"jpg\", \"png\"])"
   ]
  },
  {
   "cell_type": "code",
   "execution_count": 7,
   "id": "3f63a37a",
   "metadata": {},
   "outputs": [],
   "source": [
    "import cv2\n",
    "from PIL import Image, ImageOps\n",
    "import numpy as np\n",
    "def import_and_predict(image_data, model):\n",
    "    \n",
    "        size = (150,150)    \n",
    "        image = ImageOps.fit(image_data, size, Image.ANTIALIAS)\n",
    "        image = np.asarray(image)\n",
    "        img = cv2.cvtColor(image, cv2.COLOR_BGR2RGB)\n",
    "        img_resize = (cv2.resize(img, dsize=(75, 75),    interpolation=cv2.INTER_CUBIC))/255.\n",
    "        \n",
    "        img_reshape = img_resize[np.newaxis,...]\n",
    "    \n",
    "        prediction = model.predict(img_reshape)\n",
    "        \n",
    "        return prediction\n",
    "if file is None:\n",
    "    st.text(\"Please upload an image file\")\n",
    "else:\n",
    "    image = Image.open(file)\n",
    "    st.image(image, use_column_width=True)\n",
    "    prediction = import_and_predict(image, model)\n",
    "    \n",
    "    if np.argmax(prediction) == 0:\n",
    "        st.write(\"NO DR!\")\n",
    "    elif np.argmax(prediction) == 1:\n",
    "        st.write(\"DR Detected\")\n",
    "    else:\n",
    "        st.write(\"NONE\")\n",
    "    \n",
    "    st.write(prediction)"
   ]
  },
  {
   "cell_type": "code",
   "execution_count": null,
   "id": "bf24aab7",
   "metadata": {},
   "outputs": [],
   "source": []
  }
 ],
 "metadata": {
  "kernelspec": {
   "display_name": "gpu2",
   "language": "python",
   "name": "gpu2"
  },
  "language_info": {
   "codemirror_mode": {
    "name": "ipython",
    "version": 3
   },
   "file_extension": ".py",
   "mimetype": "text/x-python",
   "name": "python",
   "nbconvert_exporter": "python",
   "pygments_lexer": "ipython3",
   "version": "3.6.13"
  },
  "papermill": {
   "default_parameters": {},
   "duration": 310.46044,
   "end_time": "2022-08-07T16:43:31.953020",
   "environment_variables": {},
   "exception": null,
   "input_path": "__notebook__.ipynb",
   "output_path": "__notebook__.ipynb",
   "parameters": {},
   "start_time": "2022-08-07T16:38:21.492580",
   "version": "2.3.4"
  }
 },
 "nbformat": 4,
 "nbformat_minor": 5
}
